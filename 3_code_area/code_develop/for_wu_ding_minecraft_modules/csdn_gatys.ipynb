{
 "cells": [
  {
   "cell_type": "markdown",
   "metadata": {},
   "source": [
    "# 导入包"
   ]
  },
  {
   "cell_type": "code",
   "execution_count": 62,
   "metadata": {},
   "outputs": [],
   "source": [
    "from matplotlib.font_manager import weight_dict\n",
    "from click import style\n",
    "import torch\n",
    "import torchvision.models as models\n",
    "import torch.nn.functional as F\n",
    "import torch.nn as nn\n",
    "import numpy as np\n",
    "import numbers\n",
    "import math\n",
    "import cv2\n",
    "from PIL import Image\n",
    "from torchvision.transforms import Compose, ToTensor, Normalize, Resize, ToPILImage\n",
    "from torchvision import utils as vutils\n",
    "import time"
   ]
  },
  {
   "cell_type": "markdown",
   "metadata": {},
   "source": [
    "# 计时器设置"
   ]
  },
  {
   "cell_type": "code",
   "execution_count": 63,
   "metadata": {},
   "outputs": [],
   "source": [
    "t0 = time.time()"
   ]
  },
  {
   "cell_type": "markdown",
   "metadata": {},
   "source": [
    "# 导入预设模型"
   ]
  },
  {
   "cell_type": "code",
   "execution_count": 64,
   "metadata": {},
   "outputs": [
    {
     "data": {
      "text/plain": [
       "VGG(\n",
       "  (features): Sequential(\n",
       "    (0): Conv2d(3, 64, kernel_size=(3, 3), stride=(1, 1), padding=(1, 1))\n",
       "    (1): ReLU(inplace=True)\n",
       "    (2): Conv2d(64, 64, kernel_size=(3, 3), stride=(1, 1), padding=(1, 1))\n",
       "    (3): ReLU(inplace=True)\n",
       "    (4): MaxPool2d(kernel_size=2, stride=2, padding=0, dilation=1, ceil_mode=False)\n",
       "    (5): Conv2d(64, 128, kernel_size=(3, 3), stride=(1, 1), padding=(1, 1))\n",
       "    (6): ReLU(inplace=True)\n",
       "    (7): Conv2d(128, 128, kernel_size=(3, 3), stride=(1, 1), padding=(1, 1))\n",
       "    (8): ReLU(inplace=True)\n",
       "    (9): MaxPool2d(kernel_size=2, stride=2, padding=0, dilation=1, ceil_mode=False)\n",
       "    (10): Conv2d(128, 256, kernel_size=(3, 3), stride=(1, 1), padding=(1, 1))\n",
       "    (11): ReLU(inplace=True)\n",
       "    (12): Conv2d(256, 256, kernel_size=(3, 3), stride=(1, 1), padding=(1, 1))\n",
       "    (13): ReLU(inplace=True)\n",
       "    (14): Conv2d(256, 256, kernel_size=(3, 3), stride=(1, 1), padding=(1, 1))\n",
       "    (15): ReLU(inplace=True)\n",
       "    (16): Conv2d(256, 256, kernel_size=(3, 3), stride=(1, 1), padding=(1, 1))\n",
       "    (17): ReLU(inplace=True)\n",
       "    (18): MaxPool2d(kernel_size=2, stride=2, padding=0, dilation=1, ceil_mode=False)\n",
       "    (19): Conv2d(256, 512, kernel_size=(3, 3), stride=(1, 1), padding=(1, 1))\n",
       "    (20): ReLU(inplace=True)\n",
       "    (21): Conv2d(512, 512, kernel_size=(3, 3), stride=(1, 1), padding=(1, 1))\n",
       "    (22): ReLU(inplace=True)\n",
       "    (23): Conv2d(512, 512, kernel_size=(3, 3), stride=(1, 1), padding=(1, 1))\n",
       "    (24): ReLU(inplace=True)\n",
       "    (25): Conv2d(512, 512, kernel_size=(3, 3), stride=(1, 1), padding=(1, 1))\n",
       "    (26): ReLU(inplace=True)\n",
       "    (27): MaxPool2d(kernel_size=2, stride=2, padding=0, dilation=1, ceil_mode=False)\n",
       "    (28): Conv2d(512, 512, kernel_size=(3, 3), stride=(1, 1), padding=(1, 1))\n",
       "    (29): ReLU(inplace=True)\n",
       "    (30): Conv2d(512, 512, kernel_size=(3, 3), stride=(1, 1), padding=(1, 1))\n",
       "    (31): ReLU(inplace=True)\n",
       "    (32): Conv2d(512, 512, kernel_size=(3, 3), stride=(1, 1), padding=(1, 1))\n",
       "    (33): ReLU(inplace=True)\n",
       "    (34): Conv2d(512, 512, kernel_size=(3, 3), stride=(1, 1), padding=(1, 1))\n",
       "    (35): ReLU(inplace=True)\n",
       "    (36): MaxPool2d(kernel_size=2, stride=2, padding=0, dilation=1, ceil_mode=False)\n",
       "  )\n",
       "  (avgpool): AdaptiveAvgPool2d(output_size=(7, 7))\n",
       "  (classifier): Sequential(\n",
       "    (0): Linear(in_features=25088, out_features=4096, bias=True)\n",
       "    (1): ReLU(inplace=True)\n",
       "    (2): Dropout(p=0.5, inplace=False)\n",
       "    (3): Linear(in_features=4096, out_features=4096, bias=True)\n",
       "    (4): ReLU(inplace=True)\n",
       "    (5): Dropout(p=0.5, inplace=False)\n",
       "    (6): Linear(in_features=4096, out_features=1000, bias=True)\n",
       "  )\n",
       ")"
      ]
     },
     "execution_count": 64,
     "metadata": {},
     "output_type": "execute_result"
    }
   ],
   "source": [
    "model = models.vgg19(weights=models.VGG19_Weights.IMAGENET1K_V1).cuda()\n",
    "batch_size = 1\n",
    "\n",
    "for params in model.parameters():\n",
    "    params.requires_grad = False\n",
    "\n",
    "model.eval()"
   ]
  },
  {
   "cell_type": "markdown",
   "metadata": {},
   "source": [
    "# 标准化参数"
   ]
  },
  {
   "cell_type": "code",
   "execution_count": 65,
   "metadata": {},
   "outputs": [
    {
     "name": "stdout",
     "output_type": "stream",
     "text": [
      "torch.Size([3, 1, 1])\n"
     ]
    }
   ],
   "source": [
    "mu = torch.Tensor([0.485, 0.456, 0.406]).unsqueeze(dim=-1).unsqueeze(-1).cuda()\n",
    "print(mu.size())\n",
    "\n",
    "std = torch.Tensor([0.229, 0.224, 0.225]).unsqueeze(-1).unsqueeze(-1).cuda()\n",
    "unnormalize = lambda x: x*std + mu\n",
    "normalize = lambda x: (x-mu)/std"
   ]
  },
  {
   "cell_type": "markdown",
   "metadata": {},
   "source": [
    "# 图像上采样模块"
   ]
  },
  {
   "cell_type": "code",
   "execution_count": 66,
   "metadata": {},
   "outputs": [],
   "source": [
    "# 函数定义, 将32*32的风格图像放大到512*512, 原图中的每个像素向右下扩散16*16个像素\n",
    "def super_resolution_to_512(img):\n",
    "    img = img.convert('RGB')\n",
    "    img_torch = ToTensor()(img)\n",
    "    # print(img_torch.size())\n",
    "    img_512 = torch.zeros((3, 512, 512))\n",
    "    # print(img_512.size())\n",
    "    for i in range(0,img_torch.size()[0],):\n",
    "        for j in range(0, img_torch.size()[1]):\n",
    "            for k in range(0, img_torch.size()[2]):\n",
    "                img_512[i, 16*j:16*(j+1), 16*k:16*(k+1)] = img_torch[i, j, k]\n",
    "    # print(img_512.size())\n",
    "    return img_512    "
   ]
  },
  {
   "cell_type": "code",
   "execution_count": 67,
   "metadata": {},
   "outputs": [],
   "source": [
    "# 上述函数的测试\n",
    "if __name__ == '__main__':\n",
    "    style_img_path = '/home/zxt/Python_area/for_wu_ding_minecraft_modules/datas/1_origin_data/bamboo_large_leaves.png'\n",
    "    style_img = Image.open(style_img_path)\n",
    "    img = super_resolution_to_512(style_img)\n",
    "    vutils.save_image(img, 'test.png')"
   ]
  },
  {
   "cell_type": "code",
   "execution_count": 68,
   "metadata": {},
   "outputs": [],
   "source": [
    "transform_test = Compose([\n",
    "    Resize(size=(512,512)),\n",
    "    ToTensor(),\n",
    "])"
   ]
  },
  {
   "cell_type": "markdown",
   "metadata": {},
   "source": [
    "# 输入内容图像与风格图像的路径"
   ]
  },
  {
   "cell_type": "code",
   "execution_count": 69,
   "metadata": {},
   "outputs": [],
   "source": [
    "content_img_path = '/home/zxt/Python_area/for_wu_ding_minecraft_modules/datas/2_preprocessed_data/preprocessed_tomatoes_edge.png'\n",
    "style_img_path = '/home/zxt/Python_area/for_wu_ding_minecraft_modules/datas/1_origin_data/bamboo_large_leaves.png'"
   ]
  },
  {
   "cell_type": "markdown",
   "metadata": {},
   "source": [
    "## 处理内容图像与风格图像"
   ]
  },
  {
   "cell_type": "code",
   "execution_count": 79,
   "metadata": {},
   "outputs": [
    {
     "name": "stdout",
     "output_type": "stream",
     "text": [
      "内容图像的维度是：torch.Size([3, 512, 512])\n",
      "风格图像的维度是：torch.Size([3, 512, 512])\n"
     ]
    }
   ],
   "source": [
    "content_img = Image.open(content_img_path)\n",
    "content_img = content_img.convert('RGB')\n",
    "image_size = content_img.size\n",
    "content_img = transform_test(content_img)\n",
    "content_img = content_img.squeeze(0).cuda()\n",
    "print(f\"内容图像的维度是：{content_img.size()}\")\n",
    "\n",
    "style_img = Image.open(fp=style_img_path)\n",
    "style_img = style_img.convert('RGB')\n",
    "style_img = transform_test(style_img)\n",
    "# style_img = super_resolution_to_512(style_img)\n",
    "# print(style_img.size())\n",
    "style_img = style_img.squeeze(0).cuda()\n",
    "print(f\"风格图像的维度是：{style_img.size()}\")\n",
    "\n",
    "var_img = content_img.clone()\n",
    "#var_img = torch.rand_like(content_img)\n",
    "var_img.requires_grad=True"
   ]
  },
  {
   "cell_type": "code",
   "execution_count": 71,
   "metadata": {},
   "outputs": [],
   "source": [
    "class ShuntModel(nn.Module):\n",
    "    def __init__(self, model):\n",
    "        super().__init__()\n",
    "        self.module = model.features.cuda().eval()\n",
    "        self.con_layers = [22]\n",
    "        self.sty_layers = [1,6,11,20,29]\n",
    "        for name, layer in self.module.named_children():\n",
    "            if isinstance(layer, nn.MaxPool2d):\n",
    "                self.module[int(name)] = nn.AvgPool2d(kernel_size = 2, stride = 2)\n",
    "\n",
    "    def forward(self, tensor: torch.Tensor) -> dict:\n",
    "        sty_feat_maps = []; con_feat_maps = [];\n",
    "        x = normalize(tensor)\n",
    "        for name, layer in self.module.named_children():\n",
    "            x = layer(x);\n",
    "            if int(name) in self.con_layers: con_feat_maps.append(x)\n",
    "            if int(name) in self.sty_layers: sty_feat_maps.append(x)\n",
    "        return {\"Con_features\": con_feat_maps, \"Sty_features\": sty_feat_maps}"
   ]
  },
  {
   "cell_type": "code",
   "execution_count": 72,
   "metadata": {},
   "outputs": [],
   "source": [
    "model = ShuntModel(model)\n",
    "sty_target = model(style_img)[\"Sty_features\"]\n",
    "con_target = model(content_img)[\"Con_features\"]\n",
    "gram_target = []"
   ]
  },
  {
   "cell_type": "code",
   "execution_count": 73,
   "metadata": {},
   "outputs": [
    {
     "name": "stdout",
     "output_type": "stream",
     "text": [
      "<class 'list'>\n",
      "5\n",
      "torch.Size([64, 512, 512])\n"
     ]
    }
   ],
   "source": [
    "print(type(sty_target))\n",
    "print(len(sty_target))\n",
    "print(sty_target[0].size())"
   ]
  },
  {
   "cell_type": "code",
   "execution_count": 77,
   "metadata": {},
   "outputs": [],
   "source": [
    "for i in range(len(sty_target)):\n",
    "    c, h, w  = sty_target[i].size()\n",
    "    tensor_ = sty_target[i].view(1 * c, h * w)\n",
    "    gram_i = torch.mm(tensor_, tensor_.t()).div(1*c*h*w)\n",
    "    gram_target.append(gram_i)\n",
    "\n",
    "optimizer = torch.optim.Adam([var_img], lr = 0.01, betas = (0.9,0.999), eps = 1e-8)\n",
    "lam1 = 1e-3; lam2 = 1e7; lam3 = 5e-3"
   ]
  },
  {
   "cell_type": "code",
   "execution_count": 81,
   "metadata": {},
   "outputs": [
    {
     "name": "stdout",
     "output_type": "stream",
     "text": [
      "itera: 0, con_loss: 0.0000, sty_loss: 447.0878, TV_loss: 0.0000 \n",
      "\t total loss: 447.0877990722656\n",
      "var_img mean:0.8769, std:0.2649\n",
      "time: 223.90 seconds\n"
     ]
    },
    {
     "ename": "RuntimeError",
     "evalue": "number of dims don't match in permute",
     "output_type": "error",
     "traceback": [
      "\u001b[0;31m---------------------------------------------------------------------------\u001b[0m",
      "\u001b[0;31mRuntimeError\u001b[0m                              Traceback (most recent call last)",
      "\u001b[0;32m/tmp/ipykernel_642039/2881341138.py\u001b[0m in \u001b[0;36m<module>\u001b[0;34m\u001b[0m\n\u001b[1;32m     32\u001b[0m         \u001b[0msave_img\u001b[0m \u001b[0;34m=\u001b[0m \u001b[0mvar_img\u001b[0m\u001b[0;34m.\u001b[0m\u001b[0mclone\u001b[0m\u001b[0;34m(\u001b[0m\u001b[0;34m)\u001b[0m\u001b[0;34m\u001b[0m\u001b[0;34m\u001b[0m\u001b[0m\n\u001b[1;32m     33\u001b[0m         \u001b[0msave_img\u001b[0m \u001b[0;34m=\u001b[0m \u001b[0mtorch\u001b[0m\u001b[0;34m.\u001b[0m\u001b[0mclamp\u001b[0m\u001b[0;34m(\u001b[0m\u001b[0msave_img\u001b[0m\u001b[0;34m,\u001b[0m\u001b[0;36m0\u001b[0m\u001b[0;34m,\u001b[0m\u001b[0;36m1\u001b[0m\u001b[0;34m)\u001b[0m\u001b[0;34m\u001b[0m\u001b[0;34m\u001b[0m\u001b[0m\n\u001b[0;32m---> 34\u001b[0;31m         \u001b[0msave_img\u001b[0m \u001b[0;34m=\u001b[0m \u001b[0msave_img\u001b[0m\u001b[0;34m[\u001b[0m\u001b[0;36m0\u001b[0m\u001b[0;34m]\u001b[0m\u001b[0;34m.\u001b[0m\u001b[0mpermute\u001b[0m\u001b[0;34m(\u001b[0m\u001b[0;36m1\u001b[0m\u001b[0;34m,\u001b[0m\u001b[0;36m2\u001b[0m\u001b[0;34m,\u001b[0m\u001b[0;36m0\u001b[0m\u001b[0;34m)\u001b[0m\u001b[0;34m.\u001b[0m\u001b[0mdata\u001b[0m\u001b[0;34m.\u001b[0m\u001b[0mcpu\u001b[0m\u001b[0;34m(\u001b[0m\u001b[0;34m)\u001b[0m\u001b[0;34m.\u001b[0m\u001b[0mnumpy\u001b[0m\u001b[0;34m(\u001b[0m\u001b[0;34m)\u001b[0m\u001b[0;34m*\u001b[0m\u001b[0;36m255\u001b[0m\u001b[0;34m\u001b[0m\u001b[0;34m\u001b[0m\u001b[0m\n\u001b[0m\u001b[1;32m     35\u001b[0m         \u001b[0msave_img\u001b[0m \u001b[0;34m=\u001b[0m \u001b[0msave_img\u001b[0m\u001b[0;34m[\u001b[0m\u001b[0;34m...\u001b[0m\u001b[0;34m,\u001b[0m\u001b[0;34m:\u001b[0m\u001b[0;34m:\u001b[0m\u001b[0;34m-\u001b[0m\u001b[0;36m1\u001b[0m\u001b[0;34m]\u001b[0m\u001b[0;34m.\u001b[0m\u001b[0mastype\u001b[0m\u001b[0;34m(\u001b[0m\u001b[0;34m'uint8'\u001b[0m\u001b[0;34m)\u001b[0m  \u001b[0;31m#注意cv2使用BGR顺序\u001b[0m\u001b[0;34m\u001b[0m\u001b[0;34m\u001b[0m\u001b[0m\n\u001b[1;32m     36\u001b[0m         \u001b[0msave_img\u001b[0m \u001b[0;34m=\u001b[0m \u001b[0mcv2\u001b[0m\u001b[0;34m.\u001b[0m\u001b[0mresize\u001b[0m\u001b[0;34m(\u001b[0m\u001b[0msave_img\u001b[0m\u001b[0;34m,\u001b[0m\u001b[0mimage_size\u001b[0m\u001b[0;34m)\u001b[0m\u001b[0;34m\u001b[0m\u001b[0;34m\u001b[0m\u001b[0m\n",
      "\u001b[0;31mRuntimeError\u001b[0m: number of dims don't match in permute"
     ]
    }
   ],
   "source": [
    "for itera in range(20001):\n",
    "    optimizer.zero_grad()\n",
    "    output = model(var_img)\n",
    "    sty_output = output[\"Sty_features\"]\n",
    "    con_output = output[\"Con_features\"]\n",
    "    \n",
    "    con_loss = torch.tensor([0]).cuda().float()\n",
    "    for i in range(len(con_output)):\n",
    "        con_loss = con_loss + F.mse_loss(con_output[i], con_target[i])\n",
    "    \n",
    "    sty_loss = torch.tensor([0]).cuda().float()\n",
    "    for i in range(len(sty_output)):\n",
    "        c, h, w  = sty_output[i].size()\n",
    "        tensor_ = sty_output[i].view(1 * c, h * w)\n",
    "        gram_i = torch.mm(tensor_, tensor_.t()).div(1*c*h*w)\n",
    "        sty_loss = sty_loss + F.mse_loss(gram_i, gram_target[i])\n",
    "    \n",
    "    c, h, w  = style_img.size()\n",
    "    TV_loss = (torch.sum(torch.abs(style_img[ :, :, :-1] - style_img[ :, :, 1:])) +\n",
    "                torch.sum(torch.abs(style_img[ :, :-1, :] - style_img[ :, 1:, :])))/(1*c*h*w)\n",
    "    \n",
    "    loss = con_loss * lam1 + sty_loss * lam2 + TV_loss * lam3\n",
    "    loss.backward()\n",
    "    var_img.data.clamp_(0, 1)\n",
    "    optimizer.step()\n",
    "    if itera%100==0:\n",
    "        print('itera: %d, con_loss: %.4f, sty_loss: %.4f, TV_loss: %.4f'%(itera,\n",
    "              con_loss.item()*lam1,sty_loss.item()*lam2,TV_loss.item()*lam3),'\\n\\t total loss:',loss.item())\n",
    "        print('var_img mean:%.4f, std:%.4f'%(var_img.mean().item(),var_img.std().item()))\n",
    "        print('time: %.2f seconds'%(time.time()-t0))\n",
    "    if itera%1000==0:    \n",
    "        save_img = var_img.clone()\n",
    "        save_img = torch.clamp(save_img,0,1)\n",
    "        save_img = save_img[0].permute(1,2,0).data.cpu().numpy()*255\n",
    "        save_img = save_img[...,::-1].astype('uint8')  #注意cv2使用BGR顺序\n",
    "        save_img = cv2.resize(save_img,image_size)\n",
    "        cv2.imwrite('./data/output1/transfer%d.jpg'%itera,save_img)\n"
   ]
  }
 ],
 "metadata": {
  "kernelspec": {
   "display_name": "zxt_cuda_11.3",
   "language": "python",
   "name": "python3"
  },
  "language_info": {
   "codemirror_mode": {
    "name": "ipython",
    "version": 3
   },
   "file_extension": ".py",
   "mimetype": "text/x-python",
   "name": "python",
   "nbconvert_exporter": "python",
   "pygments_lexer": "ipython3",
   "version": "3.7.12"
  }
 },
 "nbformat": 4,
 "nbformat_minor": 2
}
