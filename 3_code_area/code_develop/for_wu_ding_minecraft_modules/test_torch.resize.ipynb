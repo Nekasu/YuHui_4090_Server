{
 "cells": [
  {
   "cell_type": "code",
   "execution_count": 5,
   "metadata": {},
   "outputs": [
    {
     "name": "stdout",
     "output_type": "stream",
     "text": [
      "torch.Size([3, 1, 1])\n",
      "torch.Size([3, 512, 512])\n",
      "torch.Size([3, 512, 512])\n",
      "torch.Size([4, 512, 512])\n",
      "torch.Size([4, 512, 512])\n"
     ]
    }
   ],
   "source": [
    "from matplotlib.font_manager import weight_dict\n",
    "from click import style\n",
    "import torch\n",
    "import torchvision.models as models\n",
    "import torch.nn.functional as F\n",
    "import torch.nn as nn\n",
    "import numpy as np\n",
    "import numbers\n",
    "import math\n",
    "import cv2\n",
    "from PIL import Image\n",
    "from torchvision.transforms import Compose, ToTensor, Normalize, Resize, ToPILImage\n",
    "import time\n",
    "\n",
    "from torchvision import utils as vutils\n",
    "\n",
    "\n",
    "t0 = time.time()\n",
    "\n",
    "\n",
    "# 导入预设模型\n",
    "model = models.vgg19(weights=models.VGG19_Weights.IMAGENET1K_V1).cuda()\n",
    "batch_size = 1\n",
    "\n",
    "# 将VGG当作特征提取器, 无须训练其中参数\n",
    "for params in model.parameters():\n",
    "    params.requires_grad = False\n",
    "\n",
    "# 将模型设置为评估模式\n",
    "model.eval()\n",
    "\n",
    "# # 这段代码是用来对图像进行标准化的\n",
    "# 将图像从 [0, 1] 范围拉伸到 [-0.5, 0.5] 范围，方便网络训练\n",
    "# 具体做法是减去均值，再除以标准差\n",
    "# 所以图像的数值范围变成了 [-0.5, 0.5]\n",
    "# mu 是均值，也就是 RGB 三个通道的均值\n",
    "# 这里的均值是根据ImageNet数据集计算出来的\n",
    "# 具体来说，是对ImageNet数据集中所有图像的三个通道的平均值计算得到的\n",
    "# 这个操作的意义在于，对图像进行标准化后，网络训练的初始权重就能够适应图像的这种分布\n",
    "mu = torch.Tensor([0.485, 0.456, 0.406]).unsqueeze(dim=-1).unsqueeze(-1).cuda()\n",
    "print(mu.size())\n",
    "\n",
    "std = torch.Tensor([0.229, 0.224, 0.225]).unsqueeze(-1).unsqueeze(-1).cuda()\n",
    "unnormalize = lambda x: x*std + mu\n",
    "normalize = lambda x: (x-mu)/std\n",
    "transform_test = Compose([\n",
    "    Resize((512,512)),\n",
    "    ToTensor(),\n",
    "])\n",
    "\n",
    "content_img_path = '/home/zxt/Python_area/for_wu_ding_minecraft_modules/datas/2_preprocessed_data/preprocessed_tomatoes_edge.png'\n",
    "style_img_path = '/home/zxt/Python_area/for_wu_ding_minecraft_modules/datas/1_origin_data/bamboo_leaf.jpg'\n",
    "\n",
    "\n",
    "\n",
    "content_img = Image.open(content_img_path)\n",
    "content_img = content_img.convert('RGB')\n",
    "image_size = content_img.size\n",
    "content_img = transform_test(content_img)\n",
    "# 将content_img转换为Image类的对象. 并保存\n",
    "\n",
    "\n",
    "\n",
    "print(content_img.size())\n",
    "content_img = content_img.squeeze(0).cuda()\n",
    "print(content_img.size())\n",
    "\n",
    "style_img = Image.open(fp=style_img_path)\n",
    "style_img = transform_test(style_img)\n",
    "vutils.save_image(style_img, './test.png')\n",
    "\n",
    "print(style_img.size())\n",
    "style_img = style_img.squeeze(0).cuda()\n",
    "print(style_img.size())\n"
   ]
  }
 ],
 "metadata": {
  "kernelspec": {
   "display_name": "zxt_cuda_11.3",
   "language": "python",
   "name": "python3"
  },
  "language_info": {
   "codemirror_mode": {
    "name": "ipython",
    "version": 3
   },
   "file_extension": ".py",
   "mimetype": "text/x-python",
   "name": "python",
   "nbconvert_exporter": "python",
   "pygments_lexer": "ipython3",
   "version": "3.7.12"
  }
 },
 "nbformat": 4,
 "nbformat_minor": 2
}
