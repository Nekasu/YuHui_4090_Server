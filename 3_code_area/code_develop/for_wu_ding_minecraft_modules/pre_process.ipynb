{
 "cells": [
  {
   "cell_type": "markdown",
   "metadata": {},
   "source": [
    "# 包的引入"
   ]
  },
  {
   "cell_type": "code",
   "execution_count": 9,
   "metadata": {},
   "outputs": [],
   "source": [
    "import colorsys\n",
    "from PIL import Image\n",
    "import numpy as np"
   ]
  },
  {
   "cell_type": "markdown",
   "metadata": {},
   "source": [
    "# 一些工具函数"
   ]
  },
  {
   "cell_type": "markdown",
   "metadata": {},
   "source": [
    "## 背景处理函数"
   ]
  },
  {
   "cell_type": "markdown",
   "metadata": {},
   "source": [
    "\n",
    "### 用于判断是像素是否为低饱和高明度、是否为低明度"
   ]
  },
  {
   "cell_type": "markdown",
   "metadata": {},
   "source": [
    "如果一个像素是低饱和高明度的, 那么我们考虑这个部分是背景中的一部分, 下面的函数用于判断一个像素是否为低饱和高明度"
   ]
  },
  {
   "cell_type": "code",
   "execution_count": 10,
   "metadata": {},
   "outputs": [],
   "source": [
    "def judge_low_s_high_l(r, g, b):\n",
    "    # 定义RGB颜色\n",
    "    r, g, b = r/255.0, g/255.0, b/255.0\n",
    "\n",
    "    # 将RGB颜色转换为HSL颜色\n",
    "    h, l, s = colorsys.rgb_to_hls(r, g, b)\n",
    "\n",
    "    # 定义饱和度和亮度的阈值\n",
    "    saturation_threshold = 0.6\n",
    "    max_s = 0.85\n",
    "    lightness_threshold = 0.8\n",
    "\n",
    "    # 判断像素是否为高明度低饱和\n",
    "    if (s >= max_s or s <= saturation_threshold) and l >= lightness_threshold:\n",
    "        return True\n",
    "    else:\n",
    "        return False"
   ]
  },
  {
   "cell_type": "markdown",
   "metadata": {},
   "source": [
    "如果一个像素是低明度的, 那么我们考虑这个部分是背景中的一部分, 下面的函数用于判断一个像素是否为低明度的"
   ]
  },
  {
   "cell_type": "code",
   "execution_count": 11,
   "metadata": {},
   "outputs": [],
   "source": [
    "def judge_low_l(r, g, b):\n",
    "    # 定义RGB颜色\n",
    "    r, g, b = r/255.0, g/255.0, b/255.0\n",
    "\n",
    "    # 将RGB颜色转换为HSL颜色\n",
    "    h, l, s = colorsys.rgb_to_hls(r, g, b)\n",
    "\n",
    "    # 定义饱和度和亮度的阈值\n",
    "    lightness_threshold = 0.2\n",
    "\n",
    "    # 判断像素是否为高明度低饱和\n",
    "    if l <= lightness_threshold:\n",
    "        return True\n",
    "    else:\n",
    "        return False"
   ]
  },
  {
   "cell_type": "markdown",
   "metadata": {},
   "source": [
    "### 判断一个像素是否在白色附近"
   ]
  },
  {
   "cell_type": "markdown",
   "metadata": {},
   "source": [
    "在实际应用中, 发现上面两个函数还不足以很好的去除背景, 所以使用该函数辅助进行白色背景的去除"
   ]
  },
  {
   "cell_type": "code",
   "execution_count": 12,
   "metadata": {},
   "outputs": [],
   "source": [
    "def is_near_white(pixel):\n",
    "    r, g, b, a = pixel\n",
    "\n",
    "    # Define the threshold for white color\n",
    "    white_threshold = 150\n",
    "\n",
    "    # Check if the pixel is near white\n",
    "    if r >= white_threshold and g >= white_threshold and b >= white_threshold:\n",
    "        return True\n",
    "    else:\n",
    "        return False"
   ]
  },
  {
   "cell_type": "markdown",
   "metadata": {},
   "source": [
    "## 描边函数"
   ]
  },
  {
   "cell_type": "markdown",
   "metadata": {},
   "source": [
    "1. 必要性说明\n",
    "   1. 《我的世界》中, 似乎都需要描边\n",
    "2. 实现思想：\n",
    "   1. 如果当前像素是透明像素, 且下一个像素不是透明像素, 则该像素为边缘像素, 将之加深\n",
    "   2. 如果当前像素不是透明像素, 且下一个像素是透明像素, 则该像素为边缘像素, 将之加深"
   ]
  },
  {
   "cell_type": "code",
   "execution_count": 13,
   "metadata": {},
   "outputs": [],
   "source": [
    "def is_edge(a, a_1): \n",
    "    if (a==0 and a_1 !=0):\n",
    "        return 'next_is_edge'\n",
    "    elif (a!=0 and a_1 ==0):\n",
    "        return 'now_is_edge'\n",
    "    return False"
   ]
  },
  {
   "cell_type": "markdown",
   "metadata": {},
   "source": [
    "# 超分辨率函数 "
   ]
  },
  {
   "cell_type": "code",
   "execution_count": 14,
   "metadata": {},
   "outputs": [],
   "source": [
    "import torch\n",
    "import torchvision\n",
    "\n",
    "# 函数定义, 将32*32的风格图像放大到512*512, 原图中的每个像素向右下扩散16*16个像素\n",
    "def super_resolution_to_512(img):\n",
    "    img = img.convert('RGB')\n",
    "    img_torch = torchvision.transforms.ToTensor()(img)\n",
    "    # print(img_torch.size())\n",
    "    img_512 = torch.zeros((3, 512, 512))\n",
    "    # print(img_512.size())\n",
    "    for i in range(0,img_torch.size()[0],):\n",
    "        for j in range(0, img_torch.size()[1]):\n",
    "            for k in range(0, img_torch.size()[2]):\n",
    "                img_512[i, 16*j:16*(j+1), 16*k:16*(k+1)] = img_torch[i, j, k]\n",
    "    # print(img_512.size())\n",
    "    return img_512"
   ]
  },
  {
   "cell_type": "code",
   "execution_count": 15,
   "metadata": {},
   "outputs": [],
   "source": [
    "from torchvision import utils as vutils\n",
    "\n",
    "pth = '/home/zxt/Python_area/for_wu_ding_minecraft_modules/datas/1_origin_data/bamboo_large_leaves.png'\n",
    "img = Image.open(pth)\n",
    "img = super_resolution_to_512(img)"
   ]
  },
  {
   "cell_type": "markdown",
   "metadata": {},
   "source": [
    "# 正式运行程序"
   ]
  },
  {
   "cell_type": "markdown",
   "metadata": {},
   "source": [
    "## 去除图像白色与黑色背景"
   ]
  },
  {
   "cell_type": "markdown",
   "metadata": {},
   "source": [
    "1. 记录输入与输出路径"
   ]
  },
  {
   "cell_type": "code",
   "execution_count": 16,
   "metadata": {},
   "outputs": [],
   "source": [
    "org_pics_path = \"/home/zxt/Python_area/for_wu_ding_minecraft_modules/datas/1_origin_data/bamboo_large_leaves_512.png\"\n",
    "after_processed_path = \"./datas/2_preprocessed_data/preprocessed_bamboo_large_leaves_512.png\""
   ]
  },
  {
   "cell_type": "markdown",
   "metadata": {},
   "source": [
    "2. 去除图像白色与黑色背景"
   ]
  },
  {
   "cell_type": "code",
   "execution_count": 18,
   "metadata": {},
   "outputs": [
    {
     "name": "stdout",
     "output_type": "stream",
     "text": [
      "512 512\n"
     ]
    }
   ],
   "source": [
    "image = Image.open(org_pics_path)\n",
    "\n",
    "# Convert the image to RGBA mode\n",
    "image = image.convert(\"RGBA\")\n",
    "\n",
    "# Get the pixel data\n",
    "pixels = image.load()\n",
    "\n",
    "print(image.width, image.height)\n",
    "\n",
    "# Iterate over each pixel\n",
    "for i in range(image.width):\n",
    "    for j in range(image.height):\n",
    "        # Get the RGB values of the pixel\n",
    "        r, g, b, a = pixels[i, j]\n",
    "        # print(f\"r={r}, g={g}, b={b}, a={a} at ({i}, {j})\")\n",
    "\n",
    "        # 检测像素是否为高明度低饱和\n",
    "        if judge_low_s_high_l(r, g, b):\n",
    "            # Set the alpha value to 0 (transparent)\n",
    "            pixels[i, j] = (r, g, b, 0)\n",
    "        \n",
    "        #检测像素是否为低明度\n",
    "        elif judge_low_l(r, g, b):\n",
    "            # Set the alpha value to 0 (transparent)\n",
    "            pixels[i, j] = (r, g, b, 0)\n",
    "\n",
    "        # 检测像素是否接近白色\n",
    "        elif is_near_white(pixels[i, j]):\n",
    "            # Set the alpha value to 0 (transparent)\n",
    "            pixels[i, j] = (r, g, b, 0)\n",
    "        else:\n",
    "            continue     \n",
    "            \n",
    "\n",
    "\n",
    "# Save the modified image\n",
    "image.save(after_processed_path)\n"
   ]
  },
  {
   "cell_type": "markdown",
   "metadata": {},
   "source": [
    "## 对图像进行描边操作"
   ]
  },
  {
   "cell_type": "code",
   "execution_count": 8,
   "metadata": {},
   "outputs": [
    {
     "name": "stdout",
     "output_type": "stream",
     "text": [
      "768 1024\n"
     ]
    }
   ],
   "source": [
    "image = Image.open(after_processed_path)\n",
    "\n",
    "# Convert the image to RGBA mode\n",
    "image = image.convert(\"RGBA\")\n",
    "\n",
    "# Get the pixel data\n",
    "pixels = image.load()\n",
    "\n",
    "print(image.width, image.height)\n",
    "\n",
    "for i in range(image.width):\n",
    "    for j in range(image.height):\n",
    "        # 防止数组越界\n",
    "        if i < image.width-1:\n",
    "            # 如果当前像素为透明像素, 右侧的像素不是透明像素, 说明右侧的像素是边缘像素, 则将右侧的像素设置为黑色\n",
    "            if is_edge(pixels[i, j][3], pixels[i+1, j][3])==\"next_is_edge\":\n",
    "                pixels[i+1, j] = (0,0,0,1)\n",
    "            # 如果当前像素是非透明像素, 右侧的像素是透明像素, 说明当前像素是边缘像素, 则将当前像素设置为黑色\n",
    "            elif is_edge(pixels[i, j][3], pixels[i+1, j][3])==\"now_is_edge\":\n",
    "                pixels[i, j] = (0,0,0,1)\n",
    "        if j < image.height-1:\n",
    "            # 如果当前像素为透明像素, 下方的像素不是透明像素, 说明下方的像素是边缘像素, 则将下方的像素设置为黑色\n",
    "            if is_edge(pixels[i, j][3], pixels[i, j+1][3])==\"next_is_edge\":\n",
    "                pixels[i, j+1] = (0,0,0,1)\n",
    "            # 如果当前像素是非透明像素, 下方的像素是透明像素, 说明当前像素是边缘像素, 则将当前像素设置为黑色\n",
    "            elif is_edge(pixels[i, j][3], pixels[i, j+1][3])==\"now_is_edge\":\n",
    "                pixels[i, j] = (0,0,0,1)\n",
    "\n",
    "\n",
    "# Save the modified image\n",
    "after_processed_path = \"./datas/2_preprocessed_data/preprocessed_tomatoes_edge.png\"\n",
    "image.save(after_processed_path)"
   ]
  }
 ],
 "metadata": {
  "kernelspec": {
   "display_name": "zxt_cuda_11.3",
   "language": "python",
   "name": "python3"
  },
  "language_info": {
   "codemirror_mode": {
    "name": "ipython",
    "version": 3
   },
   "file_extension": ".py",
   "mimetype": "text/x-python",
   "name": "python",
   "nbconvert_exporter": "python",
   "pygments_lexer": "ipython3",
   "version": "3.7.12"
  }
 },
 "nbformat": 4,
 "nbformat_minor": 2
}
